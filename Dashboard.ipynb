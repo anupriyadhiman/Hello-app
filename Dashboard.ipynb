{
 "cells": [
  {
   "cell_type": "code",
   "execution_count": 20,
   "metadata": {},
   "outputs": [],
   "source": [
    "import streamlit as st\n",
    "import pandas as pd\n",
    "import altair as alt\n",
    "import plotly.express as px"
   ]
  },
  {
   "cell_type": "markdown",
   "metadata": {},
   "source": [
    "##### Streamlit - a low-code web framework \n",
    "##### Pandas - a data analysis and wrangling tool \n",
    "##### Altair - a data visualization library\n",
    "##### Plotly Express - a terse and high-level API for creating figures"
   ]
  },
  {
   "cell_type": "code",
   "execution_count": 21,
   "metadata": {},
   "outputs": [
    {
     "data": {
      "text/plain": [
       "ThemeRegistry.enable('dark')"
      ]
     },
     "execution_count": 21,
     "metadata": {},
     "output_type": "execute_result"
    }
   ],
   "source": [
    "st.set_page_config(\n",
    "    page_title=\"US Population Dashboard\",\n",
    "    page_icon=\"🏂\",\n",
    "    layout=\"wide\",\n",
    "    initial_sidebar_state=\"expanded\")\n",
    "\n",
    "alt.themes.enable(\"dark\")"
   ]
  },
  {
   "cell_type": "code",
   "execution_count": 27,
   "metadata": {},
   "outputs": [
    {
     "data": {
      "text/html": [
       "<div>\n",
       "<style scoped>\n",
       "    .dataframe tbody tr th:only-of-type {\n",
       "        vertical-align: middle;\n",
       "    }\n",
       "\n",
       "    .dataframe tbody tr th {\n",
       "        vertical-align: top;\n",
       "    }\n",
       "\n",
       "    .dataframe thead th {\n",
       "        text-align: right;\n",
       "    }\n",
       "</style>\n",
       "<table border=\"1\" class=\"dataframe\">\n",
       "  <thead>\n",
       "    <tr style=\"text-align: right;\">\n",
       "      <th></th>\n",
       "      <th>Unnamed: 0</th>\n",
       "      <th>states</th>\n",
       "      <th>states_code</th>\n",
       "      <th>id</th>\n",
       "      <th>year</th>\n",
       "      <th>population</th>\n",
       "    </tr>\n",
       "  </thead>\n",
       "  <tbody>\n",
       "    <tr>\n",
       "      <th>0</th>\n",
       "      <td>0</td>\n",
       "      <td>Alabama</td>\n",
       "      <td>AL</td>\n",
       "      <td>1</td>\n",
       "      <td>2010</td>\n",
       "      <td>4785437</td>\n",
       "    </tr>\n",
       "    <tr>\n",
       "      <th>1</th>\n",
       "      <td>1</td>\n",
       "      <td>Alaska</td>\n",
       "      <td>AK</td>\n",
       "      <td>2</td>\n",
       "      <td>2010</td>\n",
       "      <td>713910</td>\n",
       "    </tr>\n",
       "    <tr>\n",
       "      <th>2</th>\n",
       "      <td>2</td>\n",
       "      <td>Arizona</td>\n",
       "      <td>AZ</td>\n",
       "      <td>4</td>\n",
       "      <td>2010</td>\n",
       "      <td>6407172</td>\n",
       "    </tr>\n",
       "    <tr>\n",
       "      <th>3</th>\n",
       "      <td>3</td>\n",
       "      <td>Arkansas</td>\n",
       "      <td>AR</td>\n",
       "      <td>5</td>\n",
       "      <td>2010</td>\n",
       "      <td>2921964</td>\n",
       "    </tr>\n",
       "    <tr>\n",
       "      <th>4</th>\n",
       "      <td>4</td>\n",
       "      <td>California</td>\n",
       "      <td>CA</td>\n",
       "      <td>6</td>\n",
       "      <td>2010</td>\n",
       "      <td>37319502</td>\n",
       "    </tr>\n",
       "    <tr>\n",
       "      <th>...</th>\n",
       "      <td>...</td>\n",
       "      <td>...</td>\n",
       "      <td>...</td>\n",
       "      <td>...</td>\n",
       "      <td>...</td>\n",
       "      <td>...</td>\n",
       "    </tr>\n",
       "    <tr>\n",
       "      <th>515</th>\n",
       "      <td>515</td>\n",
       "      <td>Washington</td>\n",
       "      <td>WA</td>\n",
       "      <td>53</td>\n",
       "      <td>2019</td>\n",
       "      <td>7614893</td>\n",
       "    </tr>\n",
       "    <tr>\n",
       "      <th>516</th>\n",
       "      <td>516</td>\n",
       "      <td>West Virginia</td>\n",
       "      <td>WV</td>\n",
       "      <td>54</td>\n",
       "      <td>2019</td>\n",
       "      <td>1792147</td>\n",
       "    </tr>\n",
       "    <tr>\n",
       "      <th>517</th>\n",
       "      <td>517</td>\n",
       "      <td>Wisconsin</td>\n",
       "      <td>WI</td>\n",
       "      <td>55</td>\n",
       "      <td>2019</td>\n",
       "      <td>5822434</td>\n",
       "    </tr>\n",
       "    <tr>\n",
       "      <th>518</th>\n",
       "      <td>518</td>\n",
       "      <td>Wyoming</td>\n",
       "      <td>WY</td>\n",
       "      <td>56</td>\n",
       "      <td>2019</td>\n",
       "      <td>578759</td>\n",
       "    </tr>\n",
       "    <tr>\n",
       "      <th>519</th>\n",
       "      <td>519</td>\n",
       "      <td>Puerto Rico</td>\n",
       "      <td>PR</td>\n",
       "      <td>72</td>\n",
       "      <td>2019</td>\n",
       "      <td>3193694</td>\n",
       "    </tr>\n",
       "  </tbody>\n",
       "</table>\n",
       "<p>520 rows × 6 columns</p>\n",
       "</div>"
      ],
      "text/plain": [
       "     Unnamed: 0         states states_code  id  year  population\n",
       "0             0        Alabama          AL   1  2010     4785437\n",
       "1             1         Alaska          AK   2  2010      713910\n",
       "2             2        Arizona          AZ   4  2010     6407172\n",
       "3             3       Arkansas          AR   5  2010     2921964\n",
       "4             4     California          CA   6  2010    37319502\n",
       "..          ...            ...         ...  ..   ...         ...\n",
       "515         515     Washington          WA  53  2019     7614893\n",
       "516         516  West Virginia          WV  54  2019     1792147\n",
       "517         517      Wisconsin          WI  55  2019     5822434\n",
       "518         518        Wyoming          WY  56  2019      578759\n",
       "519         519    Puerto Rico          PR  72  2019     3193694\n",
       "\n",
       "[520 rows x 6 columns]"
      ]
     },
     "execution_count": 27,
     "metadata": {},
     "output_type": "execute_result"
    }
   ],
   "source": [
    "df_reshaped = pd.read_csv('/Users/anupriya1.dhiman/Documents/Data science/JPSL/us-population-2010-2019-reshaped.csv')\n",
    "df_reshaped"
   ]
  },
  {
   "cell_type": "code",
   "execution_count": 28,
   "metadata": {},
   "outputs": [
    {
     "data": {
      "text/plain": [
       "Index(['Unnamed: 0', 'states', 'states_code', 'id', 'year', 'population'], dtype='object')"
      ]
     },
     "execution_count": 28,
     "metadata": {},
     "output_type": "execute_result"
    }
   ],
   "source": [
    "df_reshaped.columns\n"
   ]
  },
  {
   "cell_type": "code",
   "execution_count": 29,
   "metadata": {},
   "outputs": [
    {
     "name": "stderr",
     "output_type": "stream",
     "text": [
      "2024-05-07 11:45:38.554 Session state does not function when running a script without `streamlit run`\n"
     ]
    }
   ],
   "source": [
    "with st.sidebar:\n",
    "    st.title('🏂 US Population Dashboard')\n",
    "    \n",
    "    year_list = list(df_reshaped.year.unique())[::-1]\n",
    "    \n",
    "    selected_year = st.selectbox('Select a year', year_list, index=len(year_list)-1)\n",
    "    df_selected_year = df_reshaped[df_reshaped.year == selected_year]\n",
    "    df_selected_year_sorted = df_selected_year.sort_values(by=\"population\", ascending=False)\n",
    "\n",
    "    color_theme_list = ['blues', 'cividis', 'greens', 'inferno', 'magma', 'plasma', 'reds', 'rainbow', 'turbo', 'viridis']\n",
    "    selected_color_theme = st.selectbox('Select a color theme', color_theme_list)\n"
   ]
  },
  {
   "cell_type": "code",
   "execution_count": 30,
   "metadata": {},
   "outputs": [],
   "source": [
    "def make_heatmap(input_df, input_y, input_x, input_color, input_color_theme):\n",
    "    heatmap = alt.Chart(input_df).mark_rect().encode(\n",
    "            y=alt.Y(f'{input_y}:O', axis=alt.Axis(title=\"Year\", titleFontSize=18, titlePadding=15, titleFontWeight=900, labelAngle=0)),\n",
    "            x=alt.X(f'{input_x}:O', axis=alt.Axis(title=\"\", titleFontSize=18, titlePadding=15, titleFontWeight=900)),\n",
    "            color=alt.Color(f'max({input_color}):Q',\n",
    "                             legend=None,\n",
    "                             scale=alt.Scale(scheme=input_color_theme)),\n",
    "            stroke=alt.value('black'),\n",
    "            strokeWidth=alt.value(0.25),\n",
    "        ).properties(width=900\n",
    "        ).configure_axis(\n",
    "        labelFontSize=12,\n",
    "        titleFontSize=12\n",
    "        ) \n",
    "    # height=300\n",
    "    return heatmap"
   ]
  },
  {
   "cell_type": "code",
   "execution_count": 31,
   "metadata": {},
   "outputs": [],
   "source": [
    "def make_choropleth(input_df, input_id, input_column, input_color_theme):\n",
    "    choropleth = px.choropleth(input_df, locations=input_id, color=input_column, locationmode=\"USA-states\",\n",
    "                               color_continuous_scale=input_color_theme,\n",
    "                               range_color=(0, max(df_selected_year.population)),\n",
    "                               scope=\"usa\",\n",
    "                               labels={'population':'Population'}\n",
    "                              )\n",
    "    choropleth.update_layout(\n",
    "        template='plotly_dark',\n",
    "        plot_bgcolor='rgba(0, 0, 0, 0)',\n",
    "        paper_bgcolor='rgba(0, 0, 0, 0)',\n",
    "        margin=dict(l=0, r=0, t=0, b=0),\n",
    "        height=350\n",
    "    )\n",
    "    return choropleth"
   ]
  },
  {
   "cell_type": "code",
   "execution_count": 32,
   "metadata": {},
   "outputs": [],
   "source": [
    "def calculate_population_difference(input_df, input_year):\n",
    "  selected_year_data = input_df[input_df['year'] == input_year].reset_index()\n",
    "  previous_year_data = input_df[input_df['year'] == input_year - 1].reset_index()\n",
    "  selected_year_data['population_difference'] = selected_year_data.population.sub(previous_year_data.population, fill_value=0)\n",
    "  return pd.concat([selected_year_data.states, selected_year_data.id, selected_year_data.population, selected_year_data.population_difference], axis=1).sort_values(by=\"population_difference\", ascending=False)"
   ]
  },
  {
   "cell_type": "code",
   "execution_count": 33,
   "metadata": {},
   "outputs": [],
   "source": [
    "def make_donut(input_response, input_text, input_color):\n",
    "  if input_color == 'blue':\n",
    "      chart_color = ['#29b5e8', '#155F7A']\n",
    "  if input_color == 'green':\n",
    "      chart_color = ['#27AE60', '#12783D']\n",
    "  if input_color == 'orange':\n",
    "      chart_color = ['#F39C12', '#875A12']\n",
    "  if input_color == 'red':\n",
    "      chart_color = ['#E74C3C', '#781F16']\n",
    "    \n",
    "  source = pd.DataFrame({\n",
    "      \"Topic\": ['', input_text],\n",
    "      \"% value\": [100-input_response, input_response]\n",
    "  })\n",
    "  source_bg = pd.DataFrame({\n",
    "      \"Topic\": ['', input_text],\n",
    "      \"% value\": [100, 0]\n",
    "  })\n",
    "    \n",
    "  plot = alt.Chart(source).mark_arc(innerRadius=45, cornerRadius=25).encode(\n",
    "      theta=\"% value\",\n",
    "      color= alt.Color(\"Topic:N\",\n",
    "                      scale=alt.Scale(\n",
    "                          #domain=['A', 'B'],\n",
    "                          domain=[input_text, ''],\n",
    "                          # range=['#29b5e8', '#155F7A']),  # 31333F\n",
    "                          range=chart_color),\n",
    "                      legend=None),\n",
    "  ).properties(width=130, height=130)\n",
    "    \n",
    "  text = plot.mark_text(align='center', color=\"#29b5e8\", font=\"Lato\", fontSize=32, fontWeight=700, fontStyle=\"italic\").encode(text=alt.value(f'{input_response} %'))\n",
    "  plot_bg = alt.Chart(source_bg).mark_arc(innerRadius=45, cornerRadius=20).encode(\n",
    "      theta=\"% value\",\n",
    "      color= alt.Color(\"Topic:N\",\n",
    "                      scale=alt.Scale(\n",
    "                          # domain=['A', 'B'],\n",
    "                          domain=[input_text, ''],\n",
    "                          range=chart_color),  # 31333F\n",
    "                      legend=None),\n",
    "  ).properties(width=130, height=130)\n",
    "  return plot_bg + plot + text"
   ]
  },
  {
   "cell_type": "code",
   "execution_count": 34,
   "metadata": {},
   "outputs": [],
   "source": [
    "def format_number(num):\n",
    "    if num > 1000000:\n",
    "        if not num % 1000000:\n",
    "            return f'{num // 1000000} M'\n",
    "        return f'{round(num / 1000000, 1)} M'\n",
    "    return f'{num // 1000} K'"
   ]
  },
  {
   "cell_type": "code",
   "execution_count": 35,
   "metadata": {},
   "outputs": [],
   "source": [
    "col = st.columns((1.5, 4.5, 2), gap='medium')"
   ]
  },
  {
   "cell_type": "code",
   "execution_count": 36,
   "metadata": {},
   "outputs": [],
   "source": [
    "with col[0]:\n",
    "    st.markdown('#### Gains/Losses')\n",
    "\n",
    "    df_population_difference_sorted = calculate_population_difference(df_reshaped, selected_year)\n",
    "\n",
    "    if selected_year > 2010:\n",
    "        first_state_name = df_population_difference_sorted.states.iloc[0]\n",
    "        first_state_population = format_number(df_population_difference_sorted.population.iloc[0])\n",
    "        first_state_delta = format_number(df_population_difference_sorted.population_difference.iloc[0])\n",
    "    else:\n",
    "        first_state_name = '-'\n",
    "        first_state_population = '-'\n",
    "        first_state_delta = ''\n",
    "    st.metric(label=first_state_name, value=first_state_population, delta=first_state_delta)\n",
    "\n",
    "    if selected_year > 2010:\n",
    "        last_state_name = df_population_difference_sorted.states.iloc[-1]\n",
    "        last_state_population = format_number(df_population_difference_sorted.population.iloc[-1])   \n",
    "        last_state_delta = format_number(df_population_difference_sorted.population_difference.iloc[-1])   \n",
    "    else:\n",
    "        last_state_name = '-'\n",
    "        last_state_population = '-'\n",
    "        last_state_delta = ''\n",
    "    st.metric(label=last_state_name, value=last_state_population, delta=last_state_delta)\n",
    "\n",
    "    \n",
    "    st.markdown('#### States Migration')\n",
    "\n",
    "    if selected_year > 2010:\n",
    "        # Filter states with population difference > 50000\n",
    "        # df_greater_50000 = df_population_difference_sorted[df_population_difference_sorted.population_difference_absolute > 50000]\n",
    "        df_greater_50000 = df_population_difference_sorted[df_population_difference_sorted.population_difference > 50000]\n",
    "        df_less_50000 = df_population_difference_sorted[df_population_difference_sorted.population_difference < -50000]\n",
    "        \n",
    "        # % of States with population difference > 50000\n",
    "        states_migration_greater = round((len(df_greater_50000)/df_population_difference_sorted.states.nunique())*100)\n",
    "        states_migration_less = round((len(df_less_50000)/df_population_difference_sorted.states.nunique())*100)\n",
    "        donut_chart_greater = make_donut(states_migration_greater, 'Inbound Migration', 'green')\n",
    "        donut_chart_less = make_donut(states_migration_less, 'Outbound Migration', 'red')\n",
    "    else:\n",
    "        states_migration_greater = 0\n",
    "        states_migration_less = 0\n",
    "        donut_chart_greater = make_donut(states_migration_greater, 'Inbound Migration', 'green')\n",
    "        donut_chart_less = make_donut(states_migration_less, 'Outbound Migration', 'red')\n",
    "\n",
    "    migrations_col = st.columns((0.2, 1, 0.2))\n",
    "    with migrations_col[1]:\n",
    "        st.write('Inbound')\n",
    "        st.altair_chart(donut_chart_greater)\n",
    "        st.write('Outbound')\n",
    "        st.altair_chart(donut_chart_less)"
   ]
  },
  {
   "cell_type": "code",
   "execution_count": 37,
   "metadata": {},
   "outputs": [],
   "source": [
    "with col[1]:\n",
    "    st.markdown('#### Total Population')\n",
    "    \n",
    "    choropleth = make_choropleth(df_selected_year, 'states_code', 'population', selected_color_theme)\n",
    "    st.plotly_chart(choropleth, use_container_width=True)\n",
    "    \n",
    "    heatmap = make_heatmap(df_reshaped, 'year', 'states', 'population', selected_color_theme)\n",
    "    st.altair_chart(heatmap, use_container_width=True)"
   ]
  },
  {
   "cell_type": "code",
   "execution_count": 38,
   "metadata": {},
   "outputs": [],
   "source": [
    "with col[2]:\n",
    "    st.markdown('#### Top States')\n",
    "\n",
    "    st.dataframe(df_selected_year_sorted,\n",
    "                 column_order=(\"states\", \"population\"),\n",
    "                 hide_index=True,\n",
    "                 width=None,\n",
    "                 column_config={\n",
    "                    \"states\": st.column_config.TextColumn(\n",
    "                        \"States\",\n",
    "                    ),\n",
    "                    \"population\": st.column_config.ProgressColumn(\n",
    "                        \"Population\",\n",
    "                        format=\"%f\",\n",
    "                        min_value=0,\n",
    "                        max_value=max(df_selected_year_sorted.population),\n",
    "                     )}\n",
    "                 )\n",
    "    \n",
    "    with st.expander('About', expanded=True):\n",
    "        st.write('''\n",
    "            - Data: [U.S. Census Bureau](<https://www.census.gov/data/datasets/time-series/demo/popest/2010s-state-total.html>).\n",
    "            - :orange[**Gains/Losses**]: states with high inbound/ outbound migration for selected year\n",
    "            - :orange[**States Migration**]: percentage of states with annual inbound/ outbound migration > 50,000\n",
    "            ''')"
   ]
  },
  {
   "cell_type": "code",
   "execution_count": null,
   "metadata": {},
   "outputs": [],
   "source": []
  }
 ],
 "metadata": {
  "kernelspec": {
   "display_name": "Python 3",
   "language": "python",
   "name": "python3"
  },
  "language_info": {
   "codemirror_mode": {
    "name": "ipython",
    "version": 3
   },
   "file_extension": ".py",
   "mimetype": "text/x-python",
   "name": "python",
   "nbconvert_exporter": "python",
   "pygments_lexer": "ipython3",
   "version": "3.11.4"
  },
  "orig_nbformat": 4
 },
 "nbformat": 4,
 "nbformat_minor": 2
}
